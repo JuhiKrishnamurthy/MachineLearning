{
  "nbformat": 4,
  "nbformat_minor": 0,
  "metadata": {
    "colab": {
      "provenance": [],
      "collapsed_sections": []
    },
    "kernelspec": {
      "name": "python3",
      "display_name": "Python 3"
    },
    "language_info": {
      "name": "python"
    }
  },
  "cells": [
    {
      "cell_type": "code",
      "execution_count": 102,
      "metadata": {
        "id": "GvFBcOScKNbL"
      },
      "outputs": [],
      "source": [
        "import numpy as np\n",
        "import pandas as pd\n",
        "import math\n",
        "from sklearn import datasets\n",
        "from sklearn import linear_model\n",
        "from sklearn.linear_model import LogisticRegression\n",
        "from sklearn.model_selection import train_test_split\n",
        "from sklearn.multiclass import OneVsRestClassifier\n",
        "from sklearn.preprocessing import StandardScaler\n",
        "from sklearn.preprocessing import PolynomialFeatures\n",
        "from sklearn.metrics import classification_report\n"
      ]
    },
    {
      "cell_type": "code",
      "source": [
        "X,y=datasets.load_iris(return_X_y=True)\n",
        "X_train, X_test, y_train, y_test = train_test_split( X, y, test_size=0.3, random_state=42)\n",
        "classification_model = OneVsRestClassifier(LogisticRegression()).fit(X_train, y_train)\n",
        "classification_model.predict(X_test)\n",
        "classification_model.score(X_test,y_test)\n"
      ],
      "metadata": {
        "colab": {
          "base_uri": "https://localhost:8080/"
        },
        "id": "7E5_zgOSQVr9",
        "outputId": "b1a26a61-f96a-4a81-f412-ed43d4262156"
      },
      "execution_count": 82,
      "outputs": [
        {
          "output_type": "execute_result",
          "data": {
            "text/plain": [
              "0.9555555555555556"
            ]
          },
          "metadata": {},
          "execution_count": 82
        }
      ]
    },
    {
      "cell_type": "markdown",
      "source": [
        "Question 2\n"
      ],
      "metadata": {
        "id": "UMWueU7pXkMt"
      }
    },
    {
      "cell_type": "code",
      "source": [
        "df = pd.read_csv(\"/content/exam6.txt\", sep=\",\")\n",
        "print(df)\n"
      ],
      "metadata": {
        "colab": {
          "base_uri": "https://localhost:8080/"
        },
        "id": "vfeLFbQIXpdj",
        "outputId": "726b4212-0393-4cca-e973-a0808aa5c5a2"
      },
      "execution_count": 83,
      "outputs": [
        {
          "output_type": "stream",
          "name": "stdout",
          "text": [
            "     0.051267   0.69956  1\n",
            "0   -0.092742  0.684940  1\n",
            "1   -0.213710  0.692250  1\n",
            "2   -0.375000  0.502190  1\n",
            "3   -0.513250  0.465640  1\n",
            "4   -0.524770  0.209800  1\n",
            "..        ...       ... ..\n",
            "112 -0.720620  0.538740  0\n",
            "113 -0.593890  0.494880  0\n",
            "114 -0.484450  0.999270  0\n",
            "115 -0.006336  0.999270  0\n",
            "116  0.632650 -0.030612  0\n",
            "\n",
            "[117 rows x 3 columns]\n"
          ]
        }
      ]
    },
    {
      "cell_type": "code",
      "source": [
        "df.columns = [\"col1\",\"col2\",\"label\"]"
      ],
      "metadata": {
        "id": "CZYjKXaq3L4L"
      },
      "execution_count": 84,
      "outputs": []
    },
    {
      "cell_type": "code",
      "source": [
        "print(df)"
      ],
      "metadata": {
        "colab": {
          "base_uri": "https://localhost:8080/"
        },
        "id": "X8AN_uTR4P2n",
        "outputId": "ae03b0cd-99e9-4ab1-c144-5486f604de86"
      },
      "execution_count": 85,
      "outputs": [
        {
          "output_type": "stream",
          "name": "stdout",
          "text": [
            "         col1      col2  label\n",
            "0   -0.092742  0.684940      1\n",
            "1   -0.213710  0.692250      1\n",
            "2   -0.375000  0.502190      1\n",
            "3   -0.513250  0.465640      1\n",
            "4   -0.524770  0.209800      1\n",
            "..        ...       ...    ...\n",
            "112 -0.720620  0.538740      0\n",
            "113 -0.593890  0.494880      0\n",
            "114 -0.484450  0.999270      0\n",
            "115 -0.006336  0.999270      0\n",
            "116  0.632650 -0.030612      0\n",
            "\n",
            "[117 rows x 3 columns]\n"
          ]
        }
      ]
    },
    {
      "cell_type": "code",
      "source": [
        "inp=df.drop(\"label\",axis=1)\n",
        "op=df[\"label\"]"
      ],
      "metadata": {
        "id": "cr0rc3OG4dmR"
      },
      "execution_count": 86,
      "outputs": []
    },
    {
      "cell_type": "code",
      "source": [
        "scaler = StandardScaler()\n",
        "inp_scaled = scaler.fit_transform(inp)"
      ],
      "metadata": {
        "id": "VS7xk5Zb4zHG"
      },
      "execution_count": 87,
      "outputs": []
    },
    {
      "cell_type": "code",
      "source": [
        "poly = PolynomialFeatures(6)\n",
        "inp_scaled=poly.fit_transform(inp_scaled)"
      ],
      "metadata": {
        "id": "v9spfGqcDRvt"
      },
      "execution_count": 88,
      "outputs": []
    },
    {
      "cell_type": "code",
      "source": [
        "X_train,X_test,y_train,y_test=train_test_split(inp_scaled,op,test_size=0.3, random_state=42)"
      ],
      "metadata": {
        "id": "NUpdM2JM4SUL"
      },
      "execution_count": 89,
      "outputs": []
    },
    {
      "cell_type": "code",
      "source": [
        "print(X_train)"
      ],
      "metadata": {
        "colab": {
          "base_uri": "https://localhost:8080/"
        },
        "id": "51foqiEf7tOe",
        "outputId": "6352177f-ec4a-4ee8-950a-f276caa7302f"
      },
      "execution_count": 90,
      "outputs": [
        {
          "output_type": "stream",
          "name": "stdout",
          "text": [
            "[[ 1.00000000e+00  6.65576610e-01 -1.43711998e+00 ...  1.88959275e+00\n",
            "  -4.08002844e+00  8.80964009e+00]\n",
            " [ 1.00000000e+00 -8.42214482e-01  2.57847023e-01 ...  3.13540680e-03\n",
            "  -9.59916180e-04  2.93881825e-04]\n",
            " [ 1.00000000e+00 -1.57290472e+00 -5.04881366e-01 ...  1.60754153e-01\n",
            "   5.15999318e-02  1.65628875e-02]\n",
            " ...\n",
            " [ 1.00000000e+00  4.46805347e-03  1.43021257e+00 ...  8.35293459e-05\n",
            "   2.67375314e-02  8.55861590e+00]\n",
            " [ 1.00000000e+00 -2.97090165e-01  7.23968263e-01 ...  2.42468129e-02\n",
            "  -5.90861803e-02  1.43984973e-01]\n",
            " [ 1.00000000e+00 -5.87046738e-01 -1.57836884e+00 ...  2.13884520e+00\n",
            "   5.75062667e+00  1.54614775e+01]]\n"
          ]
        }
      ]
    },
    {
      "cell_type": "code",
      "source": [
        "print(X_train.shape)\n",
        "print(X_test.shape)"
      ],
      "metadata": {
        "colab": {
          "base_uri": "https://localhost:8080/"
        },
        "id": "_LG1IJJoB6tz",
        "outputId": "3fe71e6d-f9fe-49a3-a625-e3e0a2bad050"
      },
      "execution_count": 91,
      "outputs": [
        {
          "output_type": "stream",
          "name": "stdout",
          "text": [
            "(81, 28)\n",
            "(36, 28)\n"
          ]
        }
      ]
    },
    {
      "cell_type": "code",
      "source": [
        "print(X_test)"
      ],
      "metadata": {
        "colab": {
          "base_uri": "https://localhost:8080/"
        },
        "id": "xtgihlaBCOhO",
        "outputId": "66a8b4a7-b01b-4580-d362-d1aee2c5b5c0"
      },
      "execution_count": 92,
      "outputs": [
        {
          "output_type": "stream",
          "name": "stdout",
          "text": [
            "[[ 1.00000000e+00  1.04831816e+00  1.73097707e-01 ...  9.86623539e-04\n",
            "   1.62910725e-04  2.68997276e-05]\n",
            " [ 1.00000000e+00 -1.16696794e+00  6.01179408e-02 ...  1.77882913e-05\n",
            "  -9.16388026e-07  4.72089758e-08]\n",
            " [ 1.00000000e+00 -5.29058645e-01 -1.05064895e-02 ...  3.41065783e-09\n",
            "   6.77316985e-11  1.34507277e-12]\n",
            " ...\n",
            " [ 1.00000000e+00 -4.36277696e-01  1.20421439e+00 ...  4.00259152e-01\n",
            "  -1.10479594e+00  3.04945952e+00]\n",
            " [ 1.00000000e+00  1.08311101e+00 -1.77611725e+00 ...  1.16743436e+01\n",
            "  -1.91439314e+01  3.13927809e+01]\n",
            " [ 1.00000000e+00  7.81552796e-01  9.49966440e-01 ...  4.97450296e-01\n",
            "   6.04643844e-01  7.34936094e-01]]\n"
          ]
        }
      ]
    },
    {
      "cell_type": "code",
      "source": [
        "clf = LogisticRegression(penalty='none',random_state=0, max_iter=1000)\n",
        "clf.fit(X_train,y_train)\n",
        "predictions=clf.predict(X_test)"
      ],
      "metadata": {
        "id": "kTpg0nHR79Uh"
      },
      "execution_count": 99,
      "outputs": []
    },
    {
      "cell_type": "code",
      "source": [
        "target_names = ['class 0', 'class 1',]\n",
        "print(classification_report(y_test, predictions, target_names=target_names))"
      ],
      "metadata": {
        "colab": {
          "base_uri": "https://localhost:8080/"
        },
        "id": "yPqeyOZoESCZ",
        "outputId": "b1fe1644-fcef-44a3-86a3-addf6daf2a09"
      },
      "execution_count": 104,
      "outputs": [
        {
          "output_type": "stream",
          "name": "stdout",
          "text": [
            "              precision    recall  f1-score   support\n",
            "\n",
            "     class 0       0.75      0.88      0.81        17\n",
            "     class 1       0.88      0.74      0.80        19\n",
            "\n",
            "    accuracy                           0.81        36\n",
            "   macro avg       0.81      0.81      0.81        36\n",
            "weighted avg       0.82      0.81      0.81        36\n",
            "\n"
          ]
        }
      ]
    }
  ]
}