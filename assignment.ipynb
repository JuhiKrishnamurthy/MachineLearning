{
  "nbformat": 4,
  "nbformat_minor": 0,
  "metadata": {
    "colab": {
      "provenance": []
    },
    "kernelspec": {
      "name": "python3",
      "display_name": "Python 3"
    },
    "language_info": {
      "name": "python"
    },
    "gpuClass": "standard"
  },
  "cells": [
    {
      "cell_type": "code",
      "execution_count": 24,
      "metadata": {
        "id": "-mUM70QyHBPd"
      },
      "outputs": [],
      "source": [
        "import numpy as np\n",
        "import pandas as pd\n",
        "from sklearn.model_selection import train_test_split\n",
        "from sklearn import preprocessing\n",
        "from sklearn.preprocessing import StandardScaler\n",
        "from sklearn import tree\n",
        "from sklearn.metrics import classification_report\n",
        "import matplotlib.pyplot as plt\n",
        "from sklearn.cluster import KMeans\n",
        "from sklearn.decomposition import PCA\n",
        "from sklearn.preprocessing import LabelEncoder\n",
        "from sklearn.cluster import AgglomerativeClustering\n",
        "from sklearn import datasets"
      ]
    },
    {
      "cell_type": "code",
      "source": [
        "df = pd.read_csv(\"/content/weather.csv\")\n",
        "# df.columns=[\"Outlook\",\"Temp\",\"Humidity\",\"Windy\",\"Play\"]\n",
        "#print(df)\n",
        "# outlook_dat = pd.get_dummies(\"Outlook\")\n",
        "# temp_dat = pd.get_dummies(\"Temp\")\n",
        "# humid_dat = pd.get_dummies(\"Humidity\")\n",
        "# df.drop(\"Outlook\",inplace=True,axis=1)\n",
        "# df.drop(\"Temp\",inplace=True,axis=1)\n",
        "# df.drop(\"Humidity\",inplace=True,axis=1)\n",
        "# df=df.join(outlook_dat)\n",
        "# df=df.join(temp_dat)\n",
        "# df=df.join(humid_dat)\n",
        "df_dummies=pd.get_dummies(df)\n",
        "print(df_dummies)\n",
        "ip_feats = df_dummies.drop(\"Play\",axis=1)\n",
        "op_feat=df_dummies[\"Play\"]"
      ],
      "metadata": {
        "colab": {
          "base_uri": "https://localhost:8080/"
        },
        "id": "IwV8po2qHYlI",
        "outputId": "d04aa88e-0a4c-49ea-e69c-fb42ae78cb17"
      },
      "execution_count": 2,
      "outputs": [
        {
          "output_type": "stream",
          "name": "stdout",
          "text": [
            "    Windy  Play  Outlook_overcast  Outlook_rainy  Outlook_sunny  Temp_cool  \\\n",
            "0       0     0                 0              1              0          0   \n",
            "1       1     0                 0              1              0          0   \n",
            "2       0     1                 1              0              0          0   \n",
            "3       0     1                 0              0              1          0   \n",
            "4       0     1                 0              0              1          1   \n",
            "5       1     0                 0              0              1          1   \n",
            "6       1     1                 1              0              0          1   \n",
            "7       0     0                 0              1              0          0   \n",
            "8       0     1                 0              1              0          1   \n",
            "9       0     1                 0              0              1          0   \n",
            "10      1     1                 0              1              0          0   \n",
            "11      1     1                 1              0              0          0   \n",
            "12      0     1                 1              0              0          0   \n",
            "13      1     0                 0              0              1          0   \n",
            "\n",
            "    Temp_hot  Temp_mild  Humidity_high  Humidity_normal  \n",
            "0          1          0              1                0  \n",
            "1          1          0              1                0  \n",
            "2          1          0              1                0  \n",
            "3          0          1              1                0  \n",
            "4          0          0              0                1  \n",
            "5          0          0              0                1  \n",
            "6          0          0              0                1  \n",
            "7          0          1              1                0  \n",
            "8          0          0              0                1  \n",
            "9          0          1              0                1  \n",
            "10         0          1              0                1  \n",
            "11         0          1              1                0  \n",
            "12         1          0              0                1  \n",
            "13         0          1              1                0  \n"
          ]
        }
      ]
    },
    {
      "cell_type": "code",
      "source": [
        "print(op_feat)"
      ],
      "metadata": {
        "colab": {
          "base_uri": "https://localhost:8080/"
        },
        "id": "ZbHh8axaLGYY",
        "outputId": "e2df0450-0085-4599-b08a-b41ce43dca68"
      },
      "execution_count": 3,
      "outputs": [
        {
          "output_type": "stream",
          "name": "stdout",
          "text": [
            "0     0\n",
            "1     0\n",
            "2     1\n",
            "3     1\n",
            "4     1\n",
            "5     0\n",
            "6     1\n",
            "7     0\n",
            "8     1\n",
            "9     1\n",
            "10    1\n",
            "11    1\n",
            "12    1\n",
            "13    0\n",
            "Name: Play, dtype: int64\n"
          ]
        }
      ]
    },
    {
      "cell_type": "code",
      "source": [
        "X_train,X_test,y_train,y_test = train_test_split(ip_feats,op_feat,test_size=0.3,random_state=42)\n"
      ],
      "metadata": {
        "id": "hvQoXEVGIAHt"
      },
      "execution_count": 4,
      "outputs": []
    },
    {
      "cell_type": "code",
      "source": [
        "clf = tree.DecisionTreeClassifier()\n",
        "clf = clf.fit(X_train, y_train)"
      ],
      "metadata": {
        "id": "itXxaD4uJ2NQ"
      },
      "execution_count": 5,
      "outputs": []
    },
    {
      "cell_type": "code",
      "source": [
        "tree.plot_tree(clf)"
      ],
      "metadata": {
        "colab": {
          "base_uri": "https://localhost:8080/",
          "height": 373
        },
        "id": "Sp7AYuByTOR-",
        "outputId": "9e6d6a4a-bcee-4443-c13b-db8ccc1172fb"
      },
      "execution_count": 6,
      "outputs": [
        {
          "output_type": "execute_result",
          "data": {
            "text/plain": [
              "[Text(0.4, 0.875, 'X[7] <= 0.5\\ngini = 0.444\\nsamples = 9\\nvalue = [3, 6]'),\n",
              " Text(0.2, 0.625, 'gini = 0.0\\nsamples = 4\\nvalue = [0, 4]'),\n",
              " Text(0.6, 0.625, 'X[2] <= 0.5\\ngini = 0.48\\nsamples = 5\\nvalue = [3, 2]'),\n",
              " Text(0.4, 0.375, 'X[0] <= 0.5\\ngini = 0.444\\nsamples = 3\\nvalue = [1, 2]'),\n",
              " Text(0.2, 0.125, 'gini = 0.0\\nsamples = 2\\nvalue = [0, 2]'),\n",
              " Text(0.6, 0.125, 'gini = 0.0\\nsamples = 1\\nvalue = [1, 0]'),\n",
              " Text(0.8, 0.375, 'gini = 0.0\\nsamples = 2\\nvalue = [2, 0]')]"
            ]
          },
          "metadata": {},
          "execution_count": 6
        },
        {
          "output_type": "display_data",
          "data": {
            "text/plain": [
              "<Figure size 432x288 with 1 Axes>"
            ],
            "image/png": "[encoded data removed]"
          },
          "metadata": {
            "needs_background": "light"
          }
        }
      ]
    },
    {
      "cell_type": "code",
      "source": [
        "predictions=clf.predict(X_test)"
      ],
      "metadata": {
        "id": "xn-ap7QnTaYN"
      },
      "execution_count": 7,
      "outputs": []
    },
    {
      "cell_type": "code",
      "source": [
        "print(y_test)"
      ],
      "metadata": {
        "colab": {
          "base_uri": "https://localhost:8080/"
        },
        "id": "WIy3POtLTkgN",
        "outputId": "a6c5d270-89ae-4b7f-ebe8-91607c388be2"
      },
      "execution_count": 8,
      "outputs": [
        {
          "output_type": "stream",
          "name": "stdout",
          "text": [
            "9     1\n",
            "11    1\n",
            "0     0\n",
            "12    1\n",
            "5     0\n",
            "Name: Play, dtype: int64\n"
          ]
        }
      ]
    },
    {
      "cell_type": "code",
      "source": [
        "target_names = ['class 0', 'class 1',]\n",
        "print(classification_report(y_test, predictions, target_names=target_names))\n"
      ],
      "metadata": {
        "colab": {
          "base_uri": "https://localhost:8080/"
        },
        "id": "0XNBLmcXVFps",
        "outputId": "0a9fce49-1f5d-48ad-f349-c2337100fd94"
      },
      "execution_count": 9,
      "outputs": [
        {
          "output_type": "stream",
          "name": "stdout",
          "text": [
            "              precision    recall  f1-score   support\n",
            "\n",
            "     class 0       0.50      0.50      0.50         2\n",
            "     class 1       0.67      0.67      0.67         3\n",
            "\n",
            "    accuracy                           0.60         5\n",
            "   macro avg       0.58      0.58      0.58         5\n",
            "weighted avg       0.60      0.60      0.60         5\n",
            "\n"
          ]
        }
      ]
    },
    {
      "cell_type": "code",
      "source": [
        "from sklearn.svm import SVR\n",
        "from sklearn.pipeline import make_pipeline"
      ],
      "metadata": {
        "id": "uX2BrX62qENk"
      },
      "execution_count": 30,
      "outputs": []
    },
    {
      "cell_type": "code",
      "source": [
        "boston = datasets.load_boston()\n",
        "x = pd.DataFrame(boston[\"data\"])\n",
        "x.columns = boston[\"feature_names\"]\n",
        "y = pd.DataFrame(boston[\"target\"])"
      ],
      "metadata": {
        "id": "99FvfrycPz_A"
      },
      "execution_count": null,
      "outputs": []
    },
    {
      "cell_type": "code",
      "source": [
        "scaler = StandardScaler()\n",
        "x = scaler.fit_transform(x)"
      ],
      "metadata": {
        "id": "ZnX44LTXQjKe"
      },
      "execution_count": 27,
      "outputs": []
    },
    {
      "cell_type": "code",
      "source": [
        "x_train, x_test, y_train, y_test = train_test_split(x, y, random_state=0)"
      ],
      "metadata": {
        "id": "UphSDAe9QvLU"
      },
      "execution_count": 28,
      "outputs": []
    },
    {
      "cell_type": "code",
      "source": [
        "kernel = ['linear', 'rbf', 'poly']\n",
        "kernel_performance = []\n",
        "for i in kernel:\n",
        "    c_score = []\n",
        "    for c in range(1, 100):\n",
        "        model = SVR(C=c)\n",
        "        model.fit(x_train, y_train)\n",
        "        c_score.append((c,model.score(x_test, y_test)))\n",
        "    kernel_performance.append((i, max(c_score, key=lambda item: item[1])))\n",
        "    print(kernel_performance)"
      ],
      "metadata": {
        "id": "09X3qIhpQyim"
      },
      "execution_count": null,
      "outputs": []
    },
    {
      "cell_type": "code",
      "source": [
        "mall = pd.read_csv(\"/Content/Mall_customers.csv\")\n",
        "le = LabelEncoder()\n",
        "mall[\"Gender\"] = le.fit_transform(mall[\"Gender\"])\n",
        "mall.drop(\"CustomerID\", axis=1, inplace=True)\n",
        "wcss = []\n",
        "for i in range(1, 11):\n",
        "    km = KMeans(n_clusters=i)\n",
        "    km.fit(mall)\n",
        "    wcss.append(km.inertia_)\n",
        "\n",
        "plt.figure(figsize=(12,6))\n",
        "plt.plot(range(1,11),wcss)\n",
        "plt.plot(range(1,11),wcss, linewidth=2, color=\"red\", marker =\"8\")\n",
        "plt.xlabel(\"K Value\")\n",
        "plt.xticks(np.arange(1,11,1))\n",
        "plt.ylabel(\"WCSS\")\n",
        "plt.show()\n",
        "km1=KMeans(n_clusters=5)\n",
        "km1.fit(mall)\n",
        "y=km1.predict(mall)\n",
        "mall[\"label\"] = y"
      ],
      "metadata": {
        "id": "o5K-Xph3RIDZ"
      },
      "execution_count": null,
      "outputs": []
    },
    {
      "cell_type": "code",
      "source": [
        "intervals = [15, 20, 30, 40, 50, 60, 70]\n",
        "col = mall['Age']\n",
        "mall['Age Groups'] = pd.cut(x=col, bins=intervals)\n",
        "mall['Age Groups'] \n",
        "mall = pd.get_dummies(mall)\n",
        "mall.drop([\"Age\"], axis=1, inplace=True)\n",
        "pca = PCA(n_components=10)\n",
        "mall = pca.fit_transform(mall)\n",
        "clustering_model = AgglomerativeClustering(n_clusters=5, affinity='euclidean', linkage='ward')\n",
        "clustering_model.fit(mall)\n",
        "y_pred = clustering_model.labels_\n"
      ],
      "metadata": {
        "id": "Qd0L1TiFkEjl"
      },
      "execution_count": null,
      "outputs": []
    },
    {
      "cell_type": "code",
      "source": [],
      "metadata": {
        "id": "dF_QcUSgjwG6"
      },
      "execution_count": null,
      "outputs": []
    }
  ]
}