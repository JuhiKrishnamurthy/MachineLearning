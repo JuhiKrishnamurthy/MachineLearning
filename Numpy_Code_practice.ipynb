{
  "nbformat": 4,
  "nbformat_minor": 0,
  "metadata": {
    "colab": {
      "name": "ML_assignment1_Q1",
      "provenance": [],
      "collapsed_sections": []
    },
    "kernelspec": {
      "name": "python3",
      "display_name": "Python 3"
    },
    "language_info": {
      "name": "python"
    }
  },
  "cells": [
    {
      "cell_type": "code",
      "execution_count": 35,
      "metadata": {
        "colab": {
          "base_uri": "https://localhost:8080/"
        },
        "id": "_cm3o-wLydz2",
        "outputId": "5ed7d224-7a4e-44c1-b456-79a8a0875a18"
      },
      "outputs": [
        {
          "output_type": "stream",
          "name": "stdout",
          "text": [
            "[6 5 4 3 2 1]\n"
          ]
        }
      ],
      "source": [
        "import numpy as np\n",
        "import imageio as iio\n",
        "from scipy import stats as st\n",
        "arr=np.array([1,2,3,4,5,6])\n",
        "print(arr[::-1])"
      ]
    },
    {
      "cell_type": "code",
      "source": [
        "array1 = np.array([[1, 2, 3], [2, 4, 5], [1, 2, 3]])\n",
        "print(array1.flatten('C'))\n",
        "print(array1.flatten('F'))"
      ],
      "metadata": {
        "colab": {
          "base_uri": "https://localhost:8080/"
        },
        "id": "NwyJdGLMy5hY",
        "outputId": "4efe376f-d9f6-4a8b-bd8c-cc6009d9b180"
      },
      "execution_count": 4,
      "outputs": [
        {
          "output_type": "stream",
          "name": "stdout",
          "text": [
            "[1 2 3 2 4 5 1 2 3]\n",
            "[1 2 1 2 4 2 3 5 3]\n"
          ]
        }
      ]
    },
    {
      "cell_type": "code",
      "source": [
        " arr1 = np.array([[1, 2], [3, 4]]) \n",
        " arr2 = np.array([[1, 2], [3, 4]])\n",
        " compare_arrs = arr1==arr2\n",
        " print(compare_arrs)"
      ],
      "metadata": {
        "colab": {
          "base_uri": "https://localhost:8080/"
        },
        "id": "Lql1VoWgzhHT",
        "outputId": "aeab0fc7-1515-4b86-f8c6-229ef1830294"
      },
      "execution_count": 5,
      "outputs": [
        {
          "output_type": "stream",
          "name": "stdout",
          "text": [
            "[[ True  True]\n",
            " [ True  True]]\n"
          ]
        }
      ]
    },
    {
      "cell_type": "code",
      "source": [
        "x = np.array([1,2,3,4,5,1,2,1,1,1])\n",
        "y = np.array([1, 1, 1, 2, 3, 4, 2, 4, 3, 3])\n",
        "mode1=st.mode(x)\n",
        "mode2=st.mode(y)\n",
        "print(mode1)\n",
        "ctr=0\n",
        "print(\"indices: \")\n",
        "for i in x:\n",
        "  if i == mode1[0][0]:\n",
        "    print(ctr)\n",
        "  ctr+=1\n",
        "\n",
        "print(mode2)\n",
        "print(\"inices: \")\n",
        "ctr=0\n",
        "for i in y:\n",
        "  if i == mode2[0][0]:\n",
        "    print(ctr)\n",
        "  ctr+=1\n",
        "\n",
        "\n",
        "\n"
      ],
      "metadata": {
        "colab": {
          "base_uri": "https://localhost:8080/"
        },
        "id": "kRFeBhMO0PfV",
        "outputId": "bd329d3b-6098-4f0c-8a6e-95782b8ddd9e"
      },
      "execution_count": 6,
      "outputs": [
        {
          "output_type": "stream",
          "name": "stdout",
          "text": [
            "ModeResult(mode=array([1]), count=array([5]))\n",
            "indices: \n",
            "0\n",
            "5\n",
            "7\n",
            "8\n",
            "9\n",
            "ModeResult(mode=array([1]), count=array([3]))\n",
            "inices: \n",
            "0\n",
            "1\n",
            "2\n"
          ]
        }
      ]
    },
    {
      "cell_type": "code",
      "source": [
        "gfg = np.matrix('[4, 1, 9; 12, 3, 1; 4, 5, 6]')\n",
        "print(gfg.sum())\n",
        "print(gfg.sum(axis=1))\n",
        "print(gfg.sum(axis=0))"
      ],
      "metadata": {
        "colab": {
          "base_uri": "https://localhost:8080/"
        },
        "id": "5oR1Bx8T3j1-",
        "outputId": "25901bdf-be70-4f24-ba7e-415a46b71f05"
      },
      "execution_count": 7,
      "outputs": [
        {
          "output_type": "stream",
          "name": "stdout",
          "text": [
            "45\n",
            "[[14]\n",
            " [16]\n",
            " [15]]\n",
            "[[20  9 16]]\n"
          ]
        }
      ]
    },
    {
      "cell_type": "code",
      "source": [
        "n_array = np.array([[55, 25, 15],[30, 44, 2],[11, 45, 77]])\n",
        "print(np.trace(n_array))\n",
        "w, v = np.linalg.eig(n_array)\n",
        "print(\"eigenvalues: \",w)\n",
        "print(\"eigenvectors: \",v)\n",
        "print(\"inverse: \")\n",
        "print(np.linalg.inv(n_array))\n",
        "print(\"determinant: \")\n",
        "print(np.linalg.det(n_array))"
      ],
      "metadata": {
        "colab": {
          "base_uri": "https://localhost:8080/"
        },
        "id": "UU5tNjQT4G_R",
        "outputId": "6d9ae7d6-f1bb-496a-b5e7-9833887933af"
      },
      "execution_count": 8,
      "outputs": [
        {
          "output_type": "stream",
          "name": "stdout",
          "text": [
            "176\n",
            "eigenvalues:  [98.16835147 28.097044   49.73460452]\n",
            "eigenvectors:  [[ 0.4574917   0.34637121 -0.15017693]\n",
            " [ 0.28447814 -0.72784061 -0.4852124 ]\n",
            " [ 0.84248058  0.59184038  0.8614034 ]]\n",
            "inverse: \n",
            "[[ 0.02404141 -0.00911212 -0.00444671]\n",
            " [-0.01667882  0.02966905  0.0024785 ]\n",
            " [ 0.00631287 -0.01603732  0.01217379]]\n",
            "determinant: \n",
            "137180.0000000001\n"
          ]
        }
      ]
    },
    {
      "cell_type": "code",
      "source": [
        "p = np.array([[1, 2], [2, 3]])\n",
        "q = np.array([[4, 5], [6, 7]])\n",
        "print(p*q)\n",
        "print(np.matmul(p,q))\n",
        "p = np.array([[1, 2], [2, 3], [4, 5]])\n",
        "q = np.array([[4, 5, 1], [6, 7, 2]])\n",
        "print(np.matmul(p,q))\n"
      ],
      "metadata": {
        "colab": {
          "base_uri": "https://localhost:8080/"
        },
        "id": "uxkL1ZBz8aA6",
        "outputId": "ddd32c97-8249-4124-b7bb-bae11161b015"
      },
      "execution_count": 9,
      "outputs": [
        {
          "output_type": "stream",
          "name": "stdout",
          "text": [
            "[[ 4 10]\n",
            " [12 21]]\n",
            "[[16 19]\n",
            " [26 31]]\n",
            "[[16 19  5]\n",
            " [26 31  8]\n",
            " [46 55 14]]\n"
          ]
        }
      ]
    },
    {
      "cell_type": "code",
      "source": [
        "x = np.array([[2, 3, 4], [3, 2, 9]])\n",
        "y = np.array([[1, 5, 0], [5, 10, 3]])\n",
        "print(np.inner(x,y))\n",
        "print(np.outer(x,y,out=None))\n",
        "print(np.cross(x,y))"
      ],
      "metadata": {
        "colab": {
          "base_uri": "https://localhost:8080/"
        },
        "id": "s3_Jmu93-Cdu",
        "outputId": "13c9bf23-9b0b-4327-e113-01ac5c49e2ed"
      },
      "execution_count": 10,
      "outputs": [
        {
          "output_type": "stream",
          "name": "stdout",
          "text": [
            "[[17 52]\n",
            " [13 62]]\n",
            "[[ 2 10  0 10 20  6]\n",
            " [ 3 15  0 15 30  9]\n",
            " [ 4 20  0 20 40 12]\n",
            " [ 3 15  0 15 30  9]\n",
            " [ 2 10  0 10 20  6]\n",
            " [ 9 45  0 45 90 27]]\n",
            "[[-20   4   7]\n",
            " [-84  36  20]]\n"
          ]
        }
      ]
    },
    {
      "cell_type": "code",
      "source": [
        "array = np.array([[1, -2, 3],[-4, 5, -6]])\n",
        "print(np.abs(array))\n",
        "print(np.percentile(array,25,0,out=None))\n",
        "print(np.percentile(array,25,1,out=None))\n",
        "print(np.percentile(array,50,0,out=None))\n",
        "print(np.percentile(array,50,1,out=None))\n",
        "print(np.percentile(array,75,0,out=None))\n",
        "print(np.percentile(array,75,1,out=None))\n",
        "print(np.mean(array,0))\n",
        "print(np.mean(array,1))\n",
        "print(np.median(array,0))\n",
        "print(np.median(array,1))\n",
        "print(np.std(array,0))\n",
        "print(np.std(array,1))\n",
        "\n",
        "\n",
        "\n"
      ],
      "metadata": {
        "colab": {
          "base_uri": "https://localhost:8080/"
        },
        "id": "T34gCXrSHR91",
        "outputId": "32dc0aa2-5843-48cc-dbe8-0b0569c46840"
      },
      "execution_count": 16,
      "outputs": [
        {
          "output_type": "stream",
          "name": "stdout",
          "text": [
            "[[1 2 3]\n",
            " [4 5 6]]\n",
            "[-2.75 -0.25 -3.75]\n",
            "[-0.5 -5. ]\n",
            "[-1.5  1.5 -1.5]\n",
            "[ 1. -4.]\n",
            "[-0.25  3.25  0.75]\n",
            "[2.  0.5]\n",
            "[-1.5  1.5 -1.5]\n",
            "[ 0.66666667 -1.66666667]\n",
            "[-1.5  1.5 -1.5]\n",
            "[ 1. -4.]\n",
            "[2.5 3.5 4.5]\n",
            "[2.05480467 4.78423336]\n"
          ]
        }
      ]
    },
    {
      "cell_type": "code",
      "source": [
        " a = np.array([-1.8, -1.6, -0.5, 0.5,1.6, 1.8, 3.0])\n",
        " print(np.floor(a))\n",
        " print(np.ceil(a))\n",
        " print(np.round(a))\n",
        " print(np.trunc(a))"
      ],
      "metadata": {
        "colab": {
          "base_uri": "https://localhost:8080/"
        },
        "id": "xQDKOGYIJ6Yg",
        "outputId": "f78d9bd7-4ce5-4232-e2cb-b509c3f94310"
      },
      "execution_count": 18,
      "outputs": [
        {
          "output_type": "stream",
          "name": "stdout",
          "text": [
            "[-2. -2. -1.  0.  1.  1.  3.]\n",
            "[-1. -1. -0.  1.  2.  2.  3.]\n",
            "[-2. -2. -0.  0.  2.  2.  3.]\n",
            "[-1. -1. -0.  0.  1.  1.  3.]\n"
          ]
        }
      ]
    },
    {
      "cell_type": "code",
      "source": [
        "array = np.array([10, 52, 62, 16, 16, 54, 453])\n",
        "val_and_ind_dict = {}\n",
        "index=0\n",
        "for i in array:\n",
        "  if not(i in val_and_ind_dict):\n",
        "    val_and_ind_dict[i]=[]\n",
        "  val_and_ind_dict[i].append(index)\n",
        "  index+=1\n",
        "x=np.sort(array)\n",
        "print(x)\n",
        "for i in x:\n",
        "  print(val_and_ind_dict[i])\n",
        "print(x[:4])\n",
        "print(x[-1:-6:-1])\n",
        "array = np.array([1.0, 1.2, 2.2, 2.0, 3.0, 2.0])\n",
        "for i in array:\n",
        "  if type(i)==int:\n",
        "    print(i)\n",
        "for i in array:\n",
        "  if type(i)==float:\n",
        "    print(i)"
      ],
      "metadata": {
        "colab": {
          "base_uri": "https://localhost:8080/"
        },
        "id": "xqxGWyoNKxVN",
        "outputId": "c565c68c-08ab-4ec9-9240-7ae34bf8226d"
      },
      "execution_count": 41,
      "outputs": [
        {
          "output_type": "stream",
          "name": "stdout",
          "text": [
            "[ 10  16  16  52  54  62 453]\n",
            "[0]\n",
            "[3, 4]\n",
            "[3, 4]\n",
            "[1]\n",
            "[5]\n",
            "[2]\n",
            "[6]\n",
            "[10 16 16 52]\n",
            "[453  62  54  52  16]\n"
          ]
        }
      ]
    }
  ]
}